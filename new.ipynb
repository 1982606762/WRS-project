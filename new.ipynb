{
 "cells": [
  {
   "cell_type": "code",
   "execution_count": 11,
   "metadata": {},
   "outputs": [
    {
     "name": "stdout",
     "output_type": "stream",
     "text": [
      "(20000, 4) (80000, 4)\n"
     ]
    }
   ],
   "source": [
    "import pandas as pd\n",
    "# read in test.data and train.data\n",
    "# test有20000行，train有80000行\n",
    "# 每行有4个，分别为 user id | movie id | rating | timestamp. \n",
    "test = pd.read_csv('test.data', sep='\\t', header=None)\n",
    "train = pd.read_csv('train.data', sep='\\t', header=None)\n",
    "print(test.shape, train.shape)"
   ]
  },
  {
   "cell_type": "code",
   "execution_count": 13,
   "metadata": {},
   "outputs": [
    {
     "name": "stdout",
     "output_type": "stream",
     "text": [
      "(20000, 4) (80000, 4)\n"
     ]
    }
   ],
   "source": [
    "def clean_data(df):\n",
    "    # sort by user id, movie id, and timestamp in ascending order\n",
    "    df = df.sort_values(by=[0, 1, 3])\n",
    "    # drop duplicates\n",
    "    df = df.drop_duplicates(subset=[0, 1], keep='last')\n",
    "    # clean missing ratings \n",
    "    df = df[df[2] != 0]\n",
    "    return df\n",
    "test = clean_data(test)\n",
    "train = clean_data(train)\n",
    "print(test.shape, train.shape)"
   ]
  },
  {
   "cell_type": "code",
   "execution_count": 8,
   "metadata": {},
   "outputs": [
    {
     "name": "stdout",
     "output_type": "stream",
     "text": [
      "(20000, 4) (80000, 4)\n"
     ]
    }
   ],
   "source": [
    "# 3\n",
    "user_set = set(train[0])\n",
    "test = test[test[0].isin(user_set)]\n",
    "print(test.shape, train.shape)"
   ]
  },
  {
   "cell_type": "code",
   "execution_count": 9,
   "metadata": {},
   "outputs": [
    {
     "name": "stdout",
     "output_type": "stream",
     "text": [
      "(75443, 4)\n",
      "(18850, 4)\n"
     ]
    }
   ],
   "source": [
    "# 4\n",
    "df = pd.read_csv('id_map.csv')\n",
    "idmap = df.set_index('id_in_movielens')['id_in_metadata'].to_dict()\n",
    "metadata = pd.read_csv('movies_metadata.csv', low_memory=False)\n",
    "metaid = metadata['id'].unique()\n",
    "# change the type of metaid to int and drop those cannot be converted\n",
    "metaid = [int(i) for i in metaid if i.isnumeric()]\n",
    "# extract two lists from df\n",
    "idinmetadata = df['id_in_metadata'].unique()\n",
    "idinmovielens = df['id_in_movielens'].unique()\n",
    "# Get ids from train and test\n",
    "trainid = train[1].unique()\n",
    "testid = test[1].unique()\n",
    "for i in trainid:\n",
    "    if i not in idinmovielens:\n",
    "        # drop those not in id_map\n",
    "        train = train[train[1] != i]\n",
    "    elif idmap[i] not in metaid:\n",
    "        # drop those not in metadata\n",
    "        train = train[train[1] != i]\n",
    "print(train.shape)\n",
    "for i in testid:\n",
    "    if i not in idinmovielens:\n",
    "        # drop those not in id_map\n",
    "        test = test[test[1] != i]\n",
    "    elif idmap[i] not in metaid:\n",
    "        # drop those not in metadata\n",
    "        test = test[test[1] != i]\n",
    "print(test.shape)"
   ]
  },
  {
   "cell_type": "code",
   "execution_count": 10,
   "metadata": {},
   "outputs": [
    {
     "name": "stdout",
     "output_type": "stream",
     "text": [
      "Top 5 users with most movies:\n",
      "     user_id  movie_count\n",
      "654      655          635\n",
      "404      405          530\n",
      "449      450          469\n",
      "536      537          459\n",
      "415      416          395\n",
      "\n",
      "Top 5 movies with most ratings:\n",
      "     movie_id  rating_count\n",
      "46         50           484\n",
      "167       181           422\n",
      "239       258           402\n",
      "94        100           395\n",
      "272       294           394\n"
     ]
    }
   ],
   "source": [
    "# 5\n",
    "user_movie_count = train.groupby(0)[1].nunique().reset_index()\n",
    "user_movie_count.columns = ['user_id', 'movie_count']\n",
    "\n",
    "movie_rating_count = train.groupby(1)[2].count().reset_index()\n",
    "movie_rating_count.columns = ['movie_id', 'rating_count']\n",
    "\n",
    "# sort by movie_count in descending order\n",
    "user_movie_count = user_movie_count.sort_values(by='movie_count', ascending=False)\n",
    "# sort by rating_count in descending order\n",
    "movie_rating_count = movie_rating_count.sort_values(by='rating_count', ascending=False)\n",
    "print(\"Top 5 users with most movies:\")\n",
    "print(user_movie_count.head(5))\n",
    "print(\"\\nTop 5 movies with most ratings:\")\n",
    "print(movie_rating_count.head(5))"
   ]
  },
  {
   "cell_type": "code",
   "execution_count": 19,
   "metadata": {},
   "outputs": [
    {
     "name": "stdout",
     "output_type": "stream",
     "text": [
      "Top 10 movies with most high ratings:\n",
      "     movie_id  high_rating_count\n",
      "49         50                463\n",
      "180       181                396\n",
      "99        100                367\n",
      "257       258                360\n",
      "0           1                353\n",
      "173       174                331\n",
      "285       286                319\n",
      "287       288                319\n",
      "126       127                316\n",
      "299       300                312\n",
      "\n",
      "Bottom 10 movies with most high ratings:\n",
      "      movie_id  high_rating_count\n",
      "1422      1489                  1\n",
      "1105      1122                  1\n",
      "1424      1491                  1\n",
      "103        104                  1\n",
      "1427      1497                  1\n",
      "1129      1146                  1\n",
      "1429      1500                  1\n",
      "1113      1130                  1\n",
      "1106      1123                  1\n",
      "1547      1682                  1\n"
     ]
    }
   ],
   "source": [
    "# 6\n",
    "# compute the frequency of high rating of each movie\n",
    "high_rating = train[train[2] >= 3]\n",
    "high_rating_count = high_rating.groupby(1)[2].count().reset_index()\n",
    "high_rating_count.columns = ['movie_id', 'high_rating_count']\n",
    "high_rating_count = high_rating_count.sort_values(by='high_rating_count', ascending=False)\n",
    "print(\"Top 10 movies with most high ratings:\")\n",
    "print(high_rating_count.head(10))\n",
    "print(\"\\nBottom 10 movies with most high ratings:\")\n",
    "print(high_rating_count.tail(10))"
   ]
  }
 ],
 "metadata": {
  "kernelspec": {
   "display_name": "wrs",
   "language": "python",
   "name": "python3"
  },
  "language_info": {
   "codemirror_mode": {
    "name": "ipython",
    "version": 3
   },
   "file_extension": ".py",
   "mimetype": "text/x-python",
   "name": "python",
   "nbconvert_exporter": "python",
   "pygments_lexer": "ipython3",
   "version": "3.10.9"
  },
  "orig_nbformat": 4,
  "vscode": {
   "interpreter": {
    "hash": "3c688247eac1e25ec833264570f68e639bcf6b81b8e7e8e1821655d7572f32c9"
   }
  }
 },
 "nbformat": 4,
 "nbformat_minor": 2
}
